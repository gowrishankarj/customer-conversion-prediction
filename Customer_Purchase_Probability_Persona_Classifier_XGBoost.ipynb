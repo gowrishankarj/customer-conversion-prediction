{
  "nbformat": 4,
  "nbformat_minor": 0,
  "metadata": {
    "colab": {
      "name": "Customer-Purchase-Probability-Persona-Classifier-XGBoost.ipynb",
      "provenance": [],
      "collapsed_sections": [],
      "machine_shape": "hm",
      "authorship_tag": "ABX9TyMi/gHkGKgWsFjs+Urhnscn",
      "include_colab_link": true
    },
    "kernelspec": {
      "name": "python3",
      "display_name": "Python 3"
    },
    "language_info": {
      "name": "python"
    }
  },
  "cells": [
    {
      "cell_type": "markdown",
      "metadata": {
        "id": "view-in-github",
        "colab_type": "text"
      },
      "source": [
        "<a href=\"https://colab.research.google.com/github/gowrishankarj/customer-conversion-prediction/blob/main/Customer_Purchase_Probability_Persona_Classifier_XGBoost.ipynb\" target=\"_parent\"><img src=\"https://colab.research.google.com/assets/colab-badge.svg\" alt=\"Open In Colab\"/></a>"
      ]
    },
    {
      "cell_type": "code",
      "metadata": {
        "colab": {
          "base_uri": "https://localhost:8080/"
        },
        "id": "ybIkhV__uq4w",
        "outputId": "362dfc6a-c55f-4b98-981d-b3de14fa5b3c"
      },
      "source": [
        "from google.colab import drive\n",
        "drive.mount('/content/drive')"
      ],
      "execution_count": 1,
      "outputs": [
        {
          "output_type": "stream",
          "name": "stdout",
          "text": [
            "Mounted at /content/drive\n"
          ]
        }
      ]
    },
    {
      "cell_type": "code",
      "metadata": {
        "colab": {
          "base_uri": "https://localhost:8080/"
        },
        "id": "wkKTyO3R8jHf",
        "outputId": "fb09510d-fdce-41da-f7ff-9d65c5bcd9aa"
      },
      "source": [
        "#Set Current working directory\n",
        "%cd '/content/drive/My Drive/FourthBrain/Capstone Project'"
      ],
      "execution_count": 2,
      "outputs": [
        {
          "output_type": "stream",
          "name": "stdout",
          "text": [
            "/content/drive/My Drive/FourthBrain/Capstone Project\n"
          ]
        }
      ]
    },
    {
      "cell_type": "markdown",
      "metadata": {
        "id": "D3TUzuItu9aG"
      },
      "source": [
        "Data Set source - S3 bucket (Original source Kaggle)"
      ]
    },
    {
      "cell_type": "markdown",
      "metadata": {
        "id": "kkR6ByHPvKhS"
      },
      "source": [
        "Install Libraries - S3 Access"
      ]
    },
    {
      "cell_type": "code",
      "metadata": {
        "colab": {
          "base_uri": "https://localhost:8080/"
        },
        "id": "9C9vetqQu6hZ",
        "outputId": "516874df-f971-4c27-ac69-0db024a90b2a"
      },
      "source": [
        "!pip install awscli\n",
        "!pip install fsspec\n",
        "!pip install s3fs\n",
        "!pip install squarify"
      ],
      "execution_count": 3,
      "outputs": [
        {
          "output_type": "stream",
          "name": "stdout",
          "text": [
            "Collecting awscli\n",
            "  Downloading awscli-1.22.5-py3-none-any.whl (3.8 MB)\n",
            "\u001b[K     |████████████████████████████████| 3.8 MB 13.8 MB/s \n",
            "\u001b[?25hCollecting colorama<0.4.4,>=0.2.5\n",
            "  Downloading colorama-0.4.3-py2.py3-none-any.whl (15 kB)\n",
            "Collecting s3transfer<0.6.0,>=0.5.0\n",
            "  Downloading s3transfer-0.5.0-py3-none-any.whl (79 kB)\n",
            "\u001b[K     |████████████████████████████████| 79 kB 7.1 MB/s \n",
            "\u001b[?25hRequirement already satisfied: PyYAML<5.5,>=3.10 in /usr/local/lib/python3.7/dist-packages (from awscli) (3.13)\n",
            "Collecting botocore==1.23.5\n",
            "  Downloading botocore-1.23.5-py3-none-any.whl (8.1 MB)\n",
            "\u001b[K     |████████████████████████████████| 8.1 MB 43.9 MB/s \n",
            "\u001b[?25hCollecting docutils<0.16,>=0.10\n",
            "  Downloading docutils-0.15.2-py3-none-any.whl (547 kB)\n",
            "\u001b[K     |████████████████████████████████| 547 kB 51.5 MB/s \n",
            "\u001b[?25hRequirement already satisfied: rsa<4.8,>=3.1.2 in /usr/local/lib/python3.7/dist-packages (from awscli) (4.7.2)\n",
            "Collecting urllib3<1.27,>=1.25.4\n",
            "  Downloading urllib3-1.26.7-py2.py3-none-any.whl (138 kB)\n",
            "\u001b[K     |████████████████████████████████| 138 kB 69.1 MB/s \n",
            "\u001b[?25hCollecting jmespath<1.0.0,>=0.7.1\n",
            "  Downloading jmespath-0.10.0-py2.py3-none-any.whl (24 kB)\n",
            "Requirement already satisfied: python-dateutil<3.0.0,>=2.1 in /usr/local/lib/python3.7/dist-packages (from botocore==1.23.5->awscli) (2.8.2)\n",
            "Requirement already satisfied: six>=1.5 in /usr/local/lib/python3.7/dist-packages (from python-dateutil<3.0.0,>=2.1->botocore==1.23.5->awscli) (1.15.0)\n",
            "Requirement already satisfied: pyasn1>=0.1.3 in /usr/local/lib/python3.7/dist-packages (from rsa<4.8,>=3.1.2->awscli) (0.4.8)\n",
            "Installing collected packages: urllib3, jmespath, botocore, s3transfer, docutils, colorama, awscli\n",
            "  Attempting uninstall: urllib3\n",
            "    Found existing installation: urllib3 1.24.3\n",
            "    Uninstalling urllib3-1.24.3:\n",
            "      Successfully uninstalled urllib3-1.24.3\n",
            "  Attempting uninstall: docutils\n",
            "    Found existing installation: docutils 0.18\n",
            "    Uninstalling docutils-0.18:\n",
            "      Successfully uninstalled docutils-0.18\n",
            "\u001b[31mERROR: pip's dependency resolver does not currently take into account all the packages that are installed. This behaviour is the source of the following dependency conflicts.\n",
            "requests 2.23.0 requires urllib3!=1.25.0,!=1.25.1,<1.26,>=1.21.1, but you have urllib3 1.26.7 which is incompatible.\n",
            "datascience 0.10.6 requires folium==0.2.1, but you have folium 0.8.3 which is incompatible.\u001b[0m\n",
            "Successfully installed awscli-1.22.5 botocore-1.23.5 colorama-0.4.3 docutils-0.15.2 jmespath-0.10.0 s3transfer-0.5.0 urllib3-1.26.7\n",
            "Collecting fsspec\n",
            "  Downloading fsspec-2021.11.0-py3-none-any.whl (132 kB)\n",
            "\u001b[K     |████████████████████████████████| 132 kB 15.0 MB/s \n",
            "\u001b[?25hInstalling collected packages: fsspec\n",
            "Successfully installed fsspec-2021.11.0\n",
            "Collecting s3fs\n",
            "  Downloading s3fs-2021.11.0-py3-none-any.whl (25 kB)\n",
            "Collecting aiobotocore~=1.4.1\n",
            "  Downloading aiobotocore-1.4.2.tar.gz (52 kB)\n",
            "\u001b[K     |████████████████████████████████| 52 kB 1.2 MB/s \n",
            "\u001b[?25hRequirement already satisfied: fsspec==2021.11.0 in /usr/local/lib/python3.7/dist-packages (from s3fs) (2021.11.0)\n",
            "Collecting aiohttp>=3.7.1\n",
            "  Downloading aiohttp-3.8.1-cp37-cp37m-manylinux_2_5_x86_64.manylinux1_x86_64.manylinux_2_12_x86_64.manylinux2010_x86_64.whl (1.1 MB)\n",
            "\u001b[K     |████████████████████████████████| 1.1 MB 36.1 MB/s \n",
            "\u001b[?25hCollecting botocore<1.20.107,>=1.20.106\n",
            "  Downloading botocore-1.20.106-py2.py3-none-any.whl (7.7 MB)\n",
            "\u001b[K     |████████████████████████████████| 7.7 MB 61.5 MB/s \n",
            "\u001b[?25hRequirement already satisfied: wrapt>=1.10.10 in /usr/local/lib/python3.7/dist-packages (from aiobotocore~=1.4.1->s3fs) (1.13.3)\n",
            "Collecting aioitertools>=0.5.1\n",
            "  Downloading aioitertools-0.8.0-py3-none-any.whl (21 kB)\n",
            "Collecting async-timeout<5.0,>=4.0.0a3\n",
            "  Downloading async_timeout-4.0.1-py3-none-any.whl (5.7 kB)\n",
            "Requirement already satisfied: attrs>=17.3.0 in /usr/local/lib/python3.7/dist-packages (from aiohttp>=3.7.1->s3fs) (21.2.0)\n",
            "Collecting aiosignal>=1.1.2\n",
            "  Downloading aiosignal-1.2.0-py3-none-any.whl (8.2 kB)\n",
            "Collecting frozenlist>=1.1.1\n",
            "  Downloading frozenlist-1.2.0-cp37-cp37m-manylinux_2_5_x86_64.manylinux1_x86_64.manylinux_2_12_x86_64.manylinux2010_x86_64.whl (192 kB)\n",
            "\u001b[K     |████████████████████████████████| 192 kB 55.9 MB/s \n",
            "\u001b[?25hCollecting yarl<2.0,>=1.0\n",
            "  Downloading yarl-1.7.2-cp37-cp37m-manylinux_2_5_x86_64.manylinux1_x86_64.manylinux_2_12_x86_64.manylinux2010_x86_64.whl (271 kB)\n",
            "\u001b[K     |████████████████████████████████| 271 kB 58.3 MB/s \n",
            "\u001b[?25hCollecting asynctest==0.13.0\n",
            "  Downloading asynctest-0.13.0-py3-none-any.whl (26 kB)\n",
            "Requirement already satisfied: typing-extensions>=3.7.4 in /usr/local/lib/python3.7/dist-packages (from aiohttp>=3.7.1->s3fs) (3.10.0.2)\n",
            "Collecting multidict<7.0,>=4.5\n",
            "  Downloading multidict-5.2.0-cp37-cp37m-manylinux_2_5_x86_64.manylinux1_x86_64.manylinux_2_12_x86_64.manylinux2010_x86_64.whl (160 kB)\n",
            "\u001b[K     |████████████████████████████████| 160 kB 68.7 MB/s \n",
            "\u001b[?25hRequirement already satisfied: charset-normalizer<3.0,>=2.0 in /usr/local/lib/python3.7/dist-packages (from aiohttp>=3.7.1->s3fs) (2.0.7)\n",
            "Requirement already satisfied: jmespath<1.0.0,>=0.7.1 in /usr/local/lib/python3.7/dist-packages (from botocore<1.20.107,>=1.20.106->aiobotocore~=1.4.1->s3fs) (0.10.0)\n",
            "Requirement already satisfied: python-dateutil<3.0.0,>=2.1 in /usr/local/lib/python3.7/dist-packages (from botocore<1.20.107,>=1.20.106->aiobotocore~=1.4.1->s3fs) (2.8.2)\n",
            "Requirement already satisfied: urllib3<1.27,>=1.25.4 in /usr/local/lib/python3.7/dist-packages (from botocore<1.20.107,>=1.20.106->aiobotocore~=1.4.1->s3fs) (1.26.7)\n",
            "Requirement already satisfied: six>=1.5 in /usr/local/lib/python3.7/dist-packages (from python-dateutil<3.0.0,>=2.1->botocore<1.20.107,>=1.20.106->aiobotocore~=1.4.1->s3fs) (1.15.0)\n",
            "Requirement already satisfied: idna>=2.0 in /usr/local/lib/python3.7/dist-packages (from yarl<2.0,>=1.0->aiohttp>=3.7.1->s3fs) (2.10)\n",
            "Building wheels for collected packages: aiobotocore\n",
            "  Building wheel for aiobotocore (setup.py) ... \u001b[?25l\u001b[?25hdone\n",
            "  Created wheel for aiobotocore: filename=aiobotocore-1.4.2-py3-none-any.whl size=49925 sha256=e9515ae27501b3e28f410335ce614063e78d0925bd0c70ad379661151dd40cb0\n",
            "  Stored in directory: /root/.cache/pip/wheels/33/e7/d9/b297a9aa9c43d56bc2463e6e2771655ff638f30b30f0b61fcb\n",
            "Successfully built aiobotocore\n",
            "Installing collected packages: multidict, frozenlist, yarl, asynctest, async-timeout, aiosignal, botocore, aioitertools, aiohttp, aiobotocore, s3fs\n",
            "  Attempting uninstall: botocore\n",
            "    Found existing installation: botocore 1.23.5\n",
            "    Uninstalling botocore-1.23.5:\n",
            "      Successfully uninstalled botocore-1.23.5\n",
            "\u001b[31mERROR: pip's dependency resolver does not currently take into account all the packages that are installed. This behaviour is the source of the following dependency conflicts.\n",
            "awscli 1.22.5 requires botocore==1.23.5, but you have botocore 1.20.106 which is incompatible.\u001b[0m\n",
            "Successfully installed aiobotocore-1.4.2 aiohttp-3.8.1 aioitertools-0.8.0 aiosignal-1.2.0 async-timeout-4.0.1 asynctest-0.13.0 botocore-1.20.106 frozenlist-1.2.0 multidict-5.2.0 s3fs-2021.11.0 yarl-1.7.2\n",
            "Collecting squarify\n",
            "  Downloading squarify-0.4.3-py3-none-any.whl (4.3 kB)\n",
            "Installing collected packages: squarify\n",
            "Successfully installed squarify-0.4.3\n"
          ]
        }
      ]
    },
    {
      "cell_type": "markdown",
      "metadata": {
        "id": "4zEMAnMp70Sr"
      },
      "source": [
        "Install Latest Version of Spark"
      ]
    },
    {
      "cell_type": "code",
      "metadata": {
        "id": "WmOa09Yd7xvb"
      },
      "source": [
        "import os\n",
        "\n",
        "#Set Env variables for Spark Initialization\n",
        "os.environ[\"JAVA_HOME\"] = \"/usr/lib/jvm/java-8-openjdk-amd64\"\n",
        "os.environ[\"SPARK_HOME\"] = \"/content/drive/My Drive/FourthBrain/Capstone Project/spark-3.2.0-bin-hadoop3.2/\"\n",
        "\n",
        "!apt-get install openjdk-8-jdk-headless -qq > /dev/null\n",
        "#!wget -q http://apache.osuosl.org/spark/spark-3.2.0/spark-3.2.0-bin-hadoop3.2.tgz\n",
        "#!tar xf spark-3.2.0-bin-hadoop3.2.tgz\n",
        "!pip install -q findspark"
      ],
      "execution_count": 4,
      "outputs": []
    },
    {
      "cell_type": "markdown",
      "metadata": {
        "id": "ZHn-29WWu7WI"
      },
      "source": [
        "Import Libraries"
      ]
    },
    {
      "cell_type": "code",
      "metadata": {
        "id": "mul5u3M5vOgY",
        "colab": {
          "base_uri": "https://localhost:8080/"
        },
        "outputId": "be7fdfb6-fa86-4204-fc8c-f10b09c01f76"
      },
      "source": [
        "import numpy as np\n",
        "import datetime as dt\n",
        "import pandas as pd\n",
        "import numpy as np\n",
        "\n",
        "from numpy import asarray\n",
        "from datetime import datetime\n",
        "import matplotlib.pyplot as plt\n",
        "import squarify\n",
        "import findspark\n",
        "findspark.init()\n",
        "\n",
        "import pyspark.pandas as ps\n",
        "import pyspark\n",
        "import random\n",
        "from pyspark.sql import SparkSession\n",
        "\n",
        "from sklearn.preprocessing import LabelEncoder\n",
        "from sklearn.preprocessing import OneHotEncoder\n",
        "from sklearn.preprocessing import MinMaxScaler\n",
        "from sklearn.model_selection import train_test_split\n",
        "from xgboost import plot_importance\n",
        "from sklearn.utils import resample\n",
        "from sklearn import metrics\n",
        "\n",
        "from sklearn.multiclass import OneVsRestClassifier\n",
        "from xgboost import XGBClassifier\n",
        "from sklearn.multioutput import MultiOutputClassifier\n",
        "from sklearn.pipeline import Pipeline\n",
        "from sklearn.metrics import roc_auc_score, classification_report, confusion_matrix"
      ],
      "execution_count": 5,
      "outputs": [
        {
          "output_type": "stream",
          "name": "stderr",
          "text": [
            "WARNING:root:'PYARROW_IGNORE_TIMEZONE' environment variable was not set. It is required to set this environment variable to '1' in both driver and executor sides if you use pyarrow>=2.0.0. pandas-on-Spark will set it for you but it does not work if there is a Spark context already launched.\n"
          ]
        }
      ]
    },
    {
      "cell_type": "markdown",
      "metadata": {
        "id": "EWyGEOj16p4k"
      },
      "source": [
        "AWS CLI keys"
      ]
    },
    {
      "cell_type": "code",
      "metadata": {
        "colab": {
          "base_uri": "https://localhost:8080/"
        },
        "id": "soNdUhnr6tlf",
        "outputId": "d0dd7799-355e-479c-a3bf-172b5375debf"
      },
      "source": [
        "!export AWS_SHARED_CREDENTIALS_FILE=/content/drive/MyDrive/config/awscli.ini\n",
        "\n",
        "path = \"/content/drive/MyDrive/config/awscli.ini\"\n",
        "os.environ['AWS_SHARED_CREDENTIALS_FILE'] = path\n",
        "print(os.environ['AWS_SHARED_CREDENTIALS_FILE'])"
      ],
      "execution_count": 6,
      "outputs": [
        {
          "output_type": "stream",
          "name": "stdout",
          "text": [
            "/content/drive/MyDrive/config/awscli.ini\n"
          ]
        }
      ]
    },
    {
      "cell_type": "markdown",
      "metadata": {
        "id": "Bv3fpLus_vbk"
      },
      "source": [
        "Spark Installation"
      ]
    },
    {
      "cell_type": "code",
      "metadata": {
        "id": "Lf70brXV_u04"
      },
      "source": [
        "spark = SparkSession.builder.master(\"local[*]\").getOrCreate()"
      ],
      "execution_count": null,
      "outputs": []
    },
    {
      "cell_type": "markdown",
      "metadata": {
        "id": "ZtXKp5Qh-FST"
      },
      "source": [
        "View Data Files in S3"
      ]
    },
    {
      "cell_type": "code",
      "metadata": {
        "id": "Wu3k_pIF-HfN"
      },
      "source": [
        "#View Files in S3\n",
        "!aws s3 ls s3://2021-july-mle-groupby-team/rmf-segmentation/ --recursive --human-readable --summarize\n",
        "!aws s3 ls s3://2021-july-mle-groupby-team/ecommerce-events-history-in-cosmetics-shop/ --recursive --human-readable --summarize"
      ],
      "execution_count": null,
      "outputs": []
    },
    {
      "cell_type": "code",
      "metadata": {
        "id": "P_q-DpcO-zeD"
      },
      "source": [
        "events_data = pd.read_csv('s3://2021-july-mle-groupby-team/ecommerce-events-history-in-cosmetics-shop/2020-Jan.csv')\n",
        "events_data_ps = ps.from_pandas(events_data)\n",
        "events_data_ps.head()"
      ],
      "execution_count": null,
      "outputs": []
    },
    {
      "cell_type": "code",
      "metadata": {
        "colab": {
          "base_uri": "https://localhost:8080/"
        },
        "id": "TaZ96FSQQkGG",
        "outputId": "83466eb2-7244-4dd8-ab8e-d7feab3b241e"
      },
      "source": [
        "events_data_featurized = pd.read_csv('s3://2021-july-mle-groupby-team/events-feature-enriched/events_data_clean_persona.csv')\n",
        "#events_data_featurized = ps.from_pandas(events_data_featurized)\n",
        "events_data_featurized.head()\n",
        "events_data_featurized.columns\n"
      ],
      "execution_count": 10,
      "outputs": [
        {
          "output_type": "execute_result",
          "data": {
            "text/plain": [
              "Index(['Unnamed: 0', 'event_time', 'event_type', 'product_id', 'category_id',\n",
              "       'category_code', 'brand', 'price', 'user_id', 'user_session',\n",
              "       'event_date', 'index', 'Recency', 'Frequency', 'Monetary',\n",
              "       'Customer_Persona'],\n",
              "      dtype='object')"
            ]
          },
          "metadata": {},
          "execution_count": 10
        }
      ]
    },
    {
      "cell_type": "code",
      "metadata": {
        "colab": {
          "base_uri": "https://localhost:8080/"
        },
        "id": "-gX5bwlAH9Vr",
        "outputId": "2909879d-cfab-4862-8c30-90da155d4e60"
      },
      "source": [
        "events_data_featurized['event_type'].unique()"
      ],
      "execution_count": 11,
      "outputs": [
        {
          "output_type": "execute_result",
          "data": {
            "text/plain": [
              "array(['view', 'cart', 'remove_from_cart', 'purchase'], dtype=object)"
            ]
          },
          "metadata": {},
          "execution_count": 11
        }
      ]
    },
    {
      "cell_type": "code",
      "metadata": {
        "colab": {
          "base_uri": "https://localhost:8080/",
          "height": 204
        },
        "id": "n-XDJ-vo9vs5",
        "outputId": "f5ab9bc6-c08a-4eae-f872-92eadab5ea13"
      },
      "source": [
        "#activity_count: number of activity in that session\n",
        "\n",
        "cart_purchase_users = events_data_featurized.loc[events_data_featurized[\"event_type\"].isin([\"cart\",\"purchase\"])].drop_duplicates(subset=['user_id'])\n",
        "cart_purchase_users.dropna(how='any', inplace=True)\n",
        "cart_purchase_users_all_activity = events_data_featurized.loc[events_data_featurized['user_id'].isin(cart_purchase_users['user_id'])]\n",
        "activity_in_session = cart_purchase_users_all_activity.groupby(['user_session'])['event_type'].count().reset_index()\n",
        "activity_in_session = activity_in_session.rename(columns={\"event_type\": \"activity_count\"})\n",
        "\n",
        "events_data_featurized = events_data_featurized.merge(activity_in_session, on='user_session', how='left')\n",
        "events_data_featurized['activity_count'] = events_data_featurized['activity_count'].fillna(0)\n",
        "events_data_featurized.head()"
      ],
      "execution_count": 12,
      "outputs": [
        {
          "output_type": "execute_result",
          "data": {
            "text/html": [
              "<div>\n",
              "<style scoped>\n",
              "    .dataframe tbody tr th:only-of-type {\n",
              "        vertical-align: middle;\n",
              "    }\n",
              "\n",
              "    .dataframe tbody tr th {\n",
              "        vertical-align: top;\n",
              "    }\n",
              "\n",
              "    .dataframe thead th {\n",
              "        text-align: right;\n",
              "    }\n",
              "</style>\n",
              "<table border=\"1\" class=\"dataframe\">\n",
              "  <thead>\n",
              "    <tr style=\"text-align: right;\">\n",
              "      <th></th>\n",
              "      <th>Unnamed: 0</th>\n",
              "      <th>event_time</th>\n",
              "      <th>event_type</th>\n",
              "      <th>product_id</th>\n",
              "      <th>category_id</th>\n",
              "      <th>category_code</th>\n",
              "      <th>brand</th>\n",
              "      <th>price</th>\n",
              "      <th>user_id</th>\n",
              "      <th>user_session</th>\n",
              "      <th>event_date</th>\n",
              "      <th>index</th>\n",
              "      <th>Recency</th>\n",
              "      <th>Frequency</th>\n",
              "      <th>Monetary</th>\n",
              "      <th>Customer_Persona</th>\n",
              "      <th>activity_count</th>\n",
              "    </tr>\n",
              "  </thead>\n",
              "  <tbody>\n",
              "    <tr>\n",
              "      <th>0</th>\n",
              "      <td>0</td>\n",
              "      <td>2020-01-01 00:00:00 UTC</td>\n",
              "      <td>view</td>\n",
              "      <td>5809910</td>\n",
              "      <td>1602943681873052386</td>\n",
              "      <td>NaN</td>\n",
              "      <td>grattol</td>\n",
              "      <td>5.24</td>\n",
              "      <td>595414620</td>\n",
              "      <td>4adb70bb-edbd-4981-b60f-a05bfd32683a</td>\n",
              "      <td>2020-01-01</td>\n",
              "      <td>170143</td>\n",
              "      <td>677</td>\n",
              "      <td>1</td>\n",
              "      <td>5.24</td>\n",
              "      <td>Lost Customers</td>\n",
              "      <td>0.0</td>\n",
              "    </tr>\n",
              "    <tr>\n",
              "      <th>1</th>\n",
              "      <td>1</td>\n",
              "      <td>2020-01-01 00:00:09 UTC</td>\n",
              "      <td>view</td>\n",
              "      <td>5812943</td>\n",
              "      <td>1487580012121948301</td>\n",
              "      <td>NaN</td>\n",
              "      <td>kinetics</td>\n",
              "      <td>3.97</td>\n",
              "      <td>595414640</td>\n",
              "      <td>c8c5205d-be43-4f1d-aa56-4828b8151c8a</td>\n",
              "      <td>2020-01-01</td>\n",
              "      <td>170144</td>\n",
              "      <td>677</td>\n",
              "      <td>1</td>\n",
              "      <td>3.97</td>\n",
              "      <td>Lost Customers</td>\n",
              "      <td>0.0</td>\n",
              "    </tr>\n",
              "    <tr>\n",
              "      <th>2</th>\n",
              "      <td>2</td>\n",
              "      <td>2020-01-01 00:00:19 UTC</td>\n",
              "      <td>view</td>\n",
              "      <td>5798924</td>\n",
              "      <td>1783999068867920626</td>\n",
              "      <td>NaN</td>\n",
              "      <td>zinger</td>\n",
              "      <td>3.97</td>\n",
              "      <td>595412617</td>\n",
              "      <td>46a5010f-bd69-4fbe-a00d-bb17aa7b46f3</td>\n",
              "      <td>2020-01-01</td>\n",
              "      <td>170139</td>\n",
              "      <td>677</td>\n",
              "      <td>3</td>\n",
              "      <td>11.75</td>\n",
              "      <td>Customers at risk</td>\n",
              "      <td>0.0</td>\n",
              "    </tr>\n",
              "    <tr>\n",
              "      <th>3</th>\n",
              "      <td>3</td>\n",
              "      <td>2020-01-01 00:00:24 UTC</td>\n",
              "      <td>view</td>\n",
              "      <td>5793052</td>\n",
              "      <td>1487580005754995573</td>\n",
              "      <td>NaN</td>\n",
              "      <td>NaN</td>\n",
              "      <td>4.92</td>\n",
              "      <td>420652863</td>\n",
              "      <td>546f6af3-a517-4752-a98b-80c4c5860711</td>\n",
              "      <td>2020-01-01</td>\n",
              "      <td>23312</td>\n",
              "      <td>647</td>\n",
              "      <td>62</td>\n",
              "      <td>469.72</td>\n",
              "      <td>Top Customers</td>\n",
              "      <td>0.0</td>\n",
              "    </tr>\n",
              "    <tr>\n",
              "      <th>4</th>\n",
              "      <td>4</td>\n",
              "      <td>2020-01-01 00:00:25 UTC</td>\n",
              "      <td>view</td>\n",
              "      <td>5899926</td>\n",
              "      <td>2115334439910245200</td>\n",
              "      <td>NaN</td>\n",
              "      <td>NaN</td>\n",
              "      <td>3.92</td>\n",
              "      <td>484071203</td>\n",
              "      <td>cff70ddf-529e-4b0c-a4fc-f43a749c0acb</td>\n",
              "      <td>2020-01-01</td>\n",
              "      <td>50307</td>\n",
              "      <td>677</td>\n",
              "      <td>1</td>\n",
              "      <td>3.92</td>\n",
              "      <td>Lost Customers</td>\n",
              "      <td>0.0</td>\n",
              "    </tr>\n",
              "  </tbody>\n",
              "</table>\n",
              "</div>"
            ],
            "text/plain": [
              "   Unnamed: 0               event_time  ...   Customer_Persona  activity_count\n",
              "0           0  2020-01-01 00:00:00 UTC  ...     Lost Customers             0.0\n",
              "1           1  2020-01-01 00:00:09 UTC  ...     Lost Customers             0.0\n",
              "2           2  2020-01-01 00:00:19 UTC  ...  Customers at risk             0.0\n",
              "3           3  2020-01-01 00:00:24 UTC  ...      Top Customers             0.0\n",
              "4           4  2020-01-01 00:00:25 UTC  ...     Lost Customers             0.0\n",
              "\n",
              "[5 rows x 17 columns]"
            ]
          },
          "metadata": {},
          "execution_count": 12
        }
      ]
    },
    {
      "cell_type": "code",
      "metadata": {
        "colab": {
          "base_uri": "https://localhost:8080/",
          "height": 469
        },
        "id": "MppvIOeXPcps",
        "outputId": "e795f05e-1b80-493a-9bf3-2f1d43d3adaa"
      },
      "source": [
        "top_category_n = 30\n",
        "top_category = events_data_featurized['category_code'].value_counts()[:top_category_n].sort_values(ascending=False)\n",
        "df = pd.DataFrame({'count':top_category, 'top_category':top_category })\n",
        "\n",
        "squarify.plot(sizes=top_category, label=top_category.index.array, color=[\"red\",\"cyan\",\"green\",\"orange\",\"blue\",\"grey\"], alpha=.7  )\n",
        "plt.rcParams['figure.figsize'] = (30,12)\n",
        "plt.axis('off')\n",
        "\n",
        "plt.show()"
      ],
      "execution_count": 50,
      "outputs": [
        {
          "output_type": "display_data",
          "data": {
            "image/png": "[encoded data removed]",
            "text/plain": [
              "<Figure size 1440x576 with 1 Axes>"
            ]
          },
          "metadata": {
            "needs_background": "light"
          }
        }
      ]
    },
    {
      "cell_type": "code",
      "metadata": {
        "colab": {
          "base_uri": "https://localhost:8080/",
          "height": 683
        },
        "id": "lSDUp2duWhBO",
        "outputId": "4fd5139e-62dd-4a3a-dfc3-c4b10a342d18"
      },
      "source": [
        "top_category_n = 20\n",
        "top_category = events_data_featurized['Customer_Persona'].value_counts()[:top_category_n].sort_values(ascending=False)\n",
        "df = pd.DataFrame({'count':top_category, 'top_category':top_category })\n",
        "\n",
        "squarify.plot(sizes=top_category, label=top_category.index.array, color=[\"red\",\"cyan\",\"green\",\"orange\",\"blue\",\"grey\"], alpha=.7, pad=True )\n",
        "plt.rcParams['figure.figsize'] = (30,12)\n",
        "plt.axis('off')\n",
        "\n",
        "plt.show()"
      ],
      "execution_count": 51,
      "outputs": [
        {
          "output_type": "display_data",
          "data": {
            "image/png": "[encoded data removed]",
            "text/plain": [
              "<Figure size 2160x864 with 1 Axes>"
            ]
          },
          "metadata": {
            "needs_background": "light"
          }
        }
      ]
    },
    {
      "cell_type": "code",
      "metadata": {
        "colab": {
          "base_uri": "https://localhost:8080/"
        },
        "id": "gAVGnoC1Rya9",
        "outputId": "368d20c6-a725-4c8d-cd68-6c59029c15d6"
      },
      "source": [
        "events_data_featurized['event_type'].value_counts()\n",
        "\n"
      ],
      "execution_count": 52,
      "outputs": [
        {
          "output_type": "execute_result",
          "data": {
            "text/plain": [
              "view                2037608\n",
              "cart                1148323\n",
              "remove_from_cart     815024\n",
              "purchase             263797\n",
              "Name: event_type, dtype: int64"
            ]
          },
          "metadata": {},
          "execution_count": 52
        }
      ]
    },
    {
      "cell_type": "code",
      "metadata": {
        "colab": {
          "base_uri": "https://localhost:8080/",
          "height": 486
        },
        "id": "vd9QxWUnR5cX",
        "outputId": "eba20bd9-af25-4e9e-c91b-6d5ab8b92a0d"
      },
      "source": [
        "labels = ['view', 'cart','purchase', 'remove_from_cart']\n",
        "size = events_data_featurized['event_type'].value_counts()\n",
        "colors = ['yellowgreen', 'lightskyblue','lightcoral','blue']\n",
        "\n",
        "plt.rcParams['figure.figsize'] = (20, 8)\n",
        "plt.pie(size, colors = colors, labels = labels, shadow = True, autopct = '%.2f%%')\n",
        "plt.title('Event_Type', fontsize = 20)\n",
        "plt.axis('off')\n",
        "plt.legend()\n",
        "plt.show()"
      ],
      "execution_count": 28,
      "outputs": [
        {
          "output_type": "display_data",
          "data": {
            "image/png": "[encoded data removed]",
            "text/plain": [
              "<Figure size 1440x576 with 1 Axes>"
            ]
          },
          "metadata": {}
        }
      ]
    },
    {
      "cell_type": "markdown",
      "metadata": {
        "id": "3cWRFBwvTly_"
      },
      "source": [
        "Encode categorical variables"
      ]
    },
    {
      "cell_type": "code",
      "metadata": {
        "id": "xamMtfa0qSF8"
      },
      "source": [
        "rfm_segmentation = pd.read_csv('s3://2021-july-mle-groupby-team/rmf-segmentation/RMFSegmentMapping.csv')\n",
        "rfm_segmentation.head()\n",
        "Customer_Persona_list =events_data_featurized['Customer_Persona'].unique()\n",
        "#Customer_Persona_list.reset_index()\n",
        "Customer_Persona_list = [[k,v] for k,v in enumerate(Customer_Persona_list)]\n",
        "#print(Customer_Persona_list)\n",
        "\n"
      ],
      "execution_count": 13,
      "outputs": []
    },
    {
      "cell_type": "code",
      "metadata": {
        "colab": {
          "base_uri": "https://localhost:8080/",
          "height": 513
        },
        "id": "yf1kA8wnXQjZ",
        "outputId": "bbd47401-8f4f-46c9-bbdb-37769b0f28e2"
      },
      "source": [
        "events_data_featurized.dropna(how='any', inplace=True)\n",
        "print(events_data_featurized.columns)\n",
        "#events_data_featurized.drop(labels=['category_id','event_time','index','user_session'], axis=1, inplace=True)\n",
        "events_data_featurized['event_weekday'] = events_data_featurized['event_date'].apply(lambda s: datetime.strptime(s, '%Y-%m-%d').weekday())\n",
        "events_data_featurized[\"category_code_level1\"] = events_data_featurized[\"category_code\"].str.split(\".\", expand=True)[0].astype('category')\n",
        "events_data_featurized[\"category_code_level2\"] = events_data_featurized[\"category_code\"].str.split(\".\", expand=True)[1].astype('category')\n",
        "events_data_featurized.head()"
      ],
      "execution_count": 14,
      "outputs": [
        {
          "output_type": "stream",
          "name": "stdout",
          "text": [
            "Index(['Unnamed: 0', 'event_time', 'event_type', 'product_id', 'category_id',\n",
            "       'category_code', 'brand', 'price', 'user_id', 'user_session',\n",
            "       'event_date', 'index', 'Recency', 'Frequency', 'Monetary',\n",
            "       'Customer_Persona', 'activity_count'],\n",
            "      dtype='object')\n"
          ]
        },
        {
          "output_type": "execute_result",
          "data": {
            "text/html": [
              "<div>\n",
              "<style scoped>\n",
              "    .dataframe tbody tr th:only-of-type {\n",
              "        vertical-align: middle;\n",
              "    }\n",
              "\n",
              "    .dataframe tbody tr th {\n",
              "        vertical-align: top;\n",
              "    }\n",
              "\n",
              "    .dataframe thead th {\n",
              "        text-align: right;\n",
              "    }\n",
              "</style>\n",
              "<table border=\"1\" class=\"dataframe\">\n",
              "  <thead>\n",
              "    <tr style=\"text-align: right;\">\n",
              "      <th></th>\n",
              "      <th>Unnamed: 0</th>\n",
              "      <th>event_time</th>\n",
              "      <th>event_type</th>\n",
              "      <th>product_id</th>\n",
              "      <th>category_id</th>\n",
              "      <th>category_code</th>\n",
              "      <th>brand</th>\n",
              "      <th>price</th>\n",
              "      <th>user_id</th>\n",
              "      <th>user_session</th>\n",
              "      <th>event_date</th>\n",
              "      <th>index</th>\n",
              "      <th>Recency</th>\n",
              "      <th>Frequency</th>\n",
              "      <th>Monetary</th>\n",
              "      <th>Customer_Persona</th>\n",
              "      <th>activity_count</th>\n",
              "      <th>event_weekday</th>\n",
              "      <th>category_code_level1</th>\n",
              "      <th>category_code_level2</th>\n",
              "    </tr>\n",
              "  </thead>\n",
              "  <tbody>\n",
              "    <tr>\n",
              "      <th>359</th>\n",
              "      <td>359</td>\n",
              "      <td>2020-01-01 00:34:35 UTC</td>\n",
              "      <td>view</td>\n",
              "      <td>5743974</td>\n",
              "      <td>1487580013053083824</td>\n",
              "      <td>stationery.cartrige</td>\n",
              "      <td>italwax</td>\n",
              "      <td>1.98</td>\n",
              "      <td>595418733</td>\n",
              "      <td>f2bba423-600f-491d-92e8-975dc3a4b311</td>\n",
              "      <td>2020-01-01</td>\n",
              "      <td>170184</td>\n",
              "      <td>677</td>\n",
              "      <td>2</td>\n",
              "      <td>3.96</td>\n",
              "      <td>Lost Customers</td>\n",
              "      <td>0.0</td>\n",
              "      <td>2</td>\n",
              "      <td>stationery</td>\n",
              "      <td>cartrige</td>\n",
              "    </tr>\n",
              "    <tr>\n",
              "      <th>380</th>\n",
              "      <td>380</td>\n",
              "      <td>2020-01-01 00:36:16 UTC</td>\n",
              "      <td>view</td>\n",
              "      <td>5743974</td>\n",
              "      <td>1487580013053083824</td>\n",
              "      <td>stationery.cartrige</td>\n",
              "      <td>italwax</td>\n",
              "      <td>1.98</td>\n",
              "      <td>595418733</td>\n",
              "      <td>f2bba423-600f-491d-92e8-975dc3a4b311</td>\n",
              "      <td>2020-01-01</td>\n",
              "      <td>170184</td>\n",
              "      <td>677</td>\n",
              "      <td>2</td>\n",
              "      <td>3.96</td>\n",
              "      <td>Lost Customers</td>\n",
              "      <td>0.0</td>\n",
              "      <td>2</td>\n",
              "      <td>stationery</td>\n",
              "      <td>cartrige</td>\n",
              "    </tr>\n",
              "    <tr>\n",
              "      <th>487</th>\n",
              "      <td>487</td>\n",
              "      <td>2020-01-01 00:44:22 UTC</td>\n",
              "      <td>cart</td>\n",
              "      <td>5856191</td>\n",
              "      <td>1487580006350586771</td>\n",
              "      <td>appliances.environment.vacuum</td>\n",
              "      <td>runail</td>\n",
              "      <td>24.44</td>\n",
              "      <td>530095744</td>\n",
              "      <td>5f9a463e-c3d3-4879-8237-cc88f3225a6f</td>\n",
              "      <td>2020-01-01</td>\n",
              "      <td>78429</td>\n",
              "      <td>671</td>\n",
              "      <td>148</td>\n",
              "      <td>1113.73</td>\n",
              "      <td>Customers at risk</td>\n",
              "      <td>67.0</td>\n",
              "      <td>2</td>\n",
              "      <td>appliances</td>\n",
              "      <td>environment</td>\n",
              "    </tr>\n",
              "    <tr>\n",
              "      <th>907</th>\n",
              "      <td>907</td>\n",
              "      <td>2020-01-01 01:16:00 UTC</td>\n",
              "      <td>view</td>\n",
              "      <td>5885596</td>\n",
              "      <td>1487580006350586771</td>\n",
              "      <td>appliances.environment.vacuum</td>\n",
              "      <td>polarus</td>\n",
              "      <td>102.38</td>\n",
              "      <td>459117441</td>\n",
              "      <td>9ea2e135-cbcc-4c79-897b-cd1db49b27c7</td>\n",
              "      <td>2020-01-01</td>\n",
              "      <td>36574</td>\n",
              "      <td>655</td>\n",
              "      <td>182</td>\n",
              "      <td>861.46</td>\n",
              "      <td>Emerging Customers</td>\n",
              "      <td>0.0</td>\n",
              "      <td>2</td>\n",
              "      <td>appliances</td>\n",
              "      <td>environment</td>\n",
              "    </tr>\n",
              "    <tr>\n",
              "      <th>987</th>\n",
              "      <td>987</td>\n",
              "      <td>2020-01-01 01:25:02 UTC</td>\n",
              "      <td>cart</td>\n",
              "      <td>5824195</td>\n",
              "      <td>2007399943458784057</td>\n",
              "      <td>apparel.glove</td>\n",
              "      <td>domix</td>\n",
              "      <td>0.94</td>\n",
              "      <td>310843802</td>\n",
              "      <td>e3d3613c-44b4-4a60-8781-d94ad09a1a2a</td>\n",
              "      <td>2020-01-01</td>\n",
              "      <td>6722</td>\n",
              "      <td>651</td>\n",
              "      <td>201</td>\n",
              "      <td>2209.00</td>\n",
              "      <td>Top Customers</td>\n",
              "      <td>0.0</td>\n",
              "      <td>2</td>\n",
              "      <td>apparel</td>\n",
              "      <td>glove</td>\n",
              "    </tr>\n",
              "  </tbody>\n",
              "</table>\n",
              "</div>"
            ],
            "text/plain": [
              "     Unnamed: 0  ... category_code_level2\n",
              "359         359  ...             cartrige\n",
              "380         380  ...             cartrige\n",
              "487         487  ...          environment\n",
              "907         907  ...          environment\n",
              "987         987  ...                glove\n",
              "\n",
              "[5 rows x 20 columns]"
            ]
          },
          "metadata": {},
          "execution_count": 14
        }
      ]
    },
    {
      "cell_type": "code",
      "metadata": {
        "colab": {
          "base_uri": "https://localhost:8080/"
        },
        "id": "rIMnUDldTlSV",
        "outputId": "efdf7eec-e82b-4c7f-f67e-bb218988bd4a"
      },
      "source": [
        "events_data_featurized['Customer_Persona_code']= LabelEncoder().fit_transform(events_data_featurized.loc[:,'Customer_Persona'].copy()).reshape(-1,1)\n",
        "#Customer_Persona = OneHotEncoder().fit_transform(target).toarray()\n",
        "print(events_data_featurized['Customer_Persona'])\n",
        "Customer_Persona =events_data_featurized['Customer_Persona_code']\n",
        "print(Customer_Persona)\n",
        "events_data_featurized.loc[:,'event_type'] = LabelEncoder().fit_transform(events_data_featurized.loc[:,'event_type'].copy())\n",
        "\n",
        "events_data_featurized.loc[:,'brand'] = LabelEncoder().fit_transform(events_data_featurized.loc[:,'brand'].copy())\n",
        "events_data_featurized.loc[:,'event_weekday'] = LabelEncoder().fit_transform(events_data_featurized.loc[:,'event_weekday'].copy())\n",
        "\n",
        "events_data_featurized.loc[:,'category_code_level1'] = LabelEncoder().fit_transform(events_data_featurized.loc[:,'category_code_level1'].copy())\n",
        "\n",
        "events_data_featurized.loc[:,'category_code_level2'] = LabelEncoder().fit_transform(events_data_featurized.loc[:,'category_code_level2'].copy())\n",
        "#events_data_featurized.drop(labels=['Customer_Persona','event_date','category_code'],axis=1, inplace=True)#\n",
        "#events_data_featurized.drop(labels=['event_date','category_code'],axis=1, inplace=True)#"
      ],
      "execution_count": 15,
      "outputs": [
        {
          "output_type": "stream",
          "name": "stdout",
          "text": [
            "359            Lost Customers\n",
            "380            Lost Customers\n",
            "487         Customers at risk\n",
            "907        Emerging Customers\n",
            "987             Top Customers\n",
            "                  ...        \n",
            "4264525         Top Customers\n",
            "4264534         Top Customers\n",
            "4264594         Top Customers\n",
            "4264721      Active Customers\n",
            "4264738      Active Customers\n",
            "Name: Customer_Persona, Length: 57768, dtype: object\n",
            "359        4\n",
            "380        4\n",
            "487        1\n",
            "907        2\n",
            "987        6\n",
            "          ..\n",
            "4264525    6\n",
            "4264534    6\n",
            "4264594    6\n",
            "4264721    0\n",
            "4264738    0\n",
            "Name: Customer_Persona_code, Length: 57768, dtype: int64\n"
          ]
        }
      ]
    },
    {
      "cell_type": "code",
      "metadata": {
        "colab": {
          "base_uri": "https://localhost:8080/"
        },
        "id": "C-Dxq2AszEsk",
        "outputId": "4433f0f9-f9c8-485f-96d4-807e32d7e29d"
      },
      "source": [
        "lkp_customer_persona = events_data_featurized.loc[:,['Customer_Persona_code','Customer_Persona']]\n",
        "lkp_customer_persona.drop_duplicates(inplace=True)\n",
        "print(lkp_customer_persona)\n",
        "lkp_customer_persona.to_csv('s3://2021-july-mle-groupby-team/rmf-segmentation/Customer_Persona_lookup.csv')"
      ],
      "execution_count": 16,
      "outputs": [
        {
          "output_type": "stream",
          "name": "stdout",
          "text": [
            "        Customer_Persona_code          Customer_Persona\n",
            "359                         4            Lost Customers\n",
            "487                         1         Customers at risk\n",
            "907                         2        Emerging Customers\n",
            "987                         6             Top Customers\n",
            "1426                        3        Inactive customers\n",
            "98988                       0          Active Customers\n",
            "352717                      7        Unsteady Customers\n",
            "571183                      5  Potential lost customers\n"
          ]
        }
      ]
    },
    {
      "cell_type": "code",
      "metadata": {
        "colab": {
          "base_uri": "https://localhost:8080/"
        },
        "id": "lQyKGRbNTd9J",
        "outputId": "1cf85a93-89e9-404e-feb4-633e5b502d2b"
      },
      "source": [
        "#event_time,event_type,product_id,category_id,category_code,brand,price,user_id,user_session,event_date,index,Recency,Frequency,Monetary,Customer_Persona\n",
        "#events_data_featurized.head()\n",
        "Customer_Persona_np = Customer_Persona.to_numpy()\n",
        "Customer_Persona_np = Customer_Persona_np.reshape(-1,1)\n",
        "print(Customer_Persona_np.shape)\n",
        "print(events_data_featurized.shape)"
      ],
      "execution_count": 17,
      "outputs": [
        {
          "output_type": "stream",
          "name": "stdout",
          "text": [
            "(57768, 1)\n",
            "(57768, 21)\n"
          ]
        }
      ]
    },
    {
      "cell_type": "code",
      "metadata": {
        "id": "Hpw7BrZzgONX"
      },
      "source": [
        "#events_data_featurized.drop(labels=['category_id','event_time','index'], axis=1, inplace=True)\n",
        "\n",
        "#events_data_featurized.drop(labels=['event_date','category_code'],axis=1, inplace=True)\n",
        "#events_data_featurized.drop(labels=['Unnamed: 0'],axis=1, inplace=True)\n",
        "#events_data_featurized.drop(labels=['event_date','category_code'],axis=1, inplace=True)\n",
        "#events_data_featurized.drop(labels=['user_session'],axis=1, inplace=True)\n",
        "\n",
        "#Drop other features\n",
        "events_data_featurized.drop(labels=['Unnamed: 0','event_date','category_code','category_id','event_time','index','event_type','product_id','brand','price','user_id','user_session','event_weekday','category_code_level1','category_code_level2','activity_count'],axis=1, inplace=True)\n"
      ],
      "execution_count": 18,
      "outputs": []
    },
    {
      "cell_type": "code",
      "metadata": {
        "colab": {
          "base_uri": "https://localhost:8080/",
          "height": 204
        },
        "id": "3cWhaUckjz98",
        "outputId": "304049c0-872b-48a5-9382-51fa23f9f83e"
      },
      "source": [
        "events_data_featurized.drop(labels=['Customer_Persona_code'],axis=1, inplace=True)\n",
        "events_data_featurized.columns\n",
        "events_data_featurized.head()"
      ],
      "execution_count": 20,
      "outputs": [
        {
          "output_type": "execute_result",
          "data": {
            "text/html": [
              "<div>\n",
              "<style scoped>\n",
              "    .dataframe tbody tr th:only-of-type {\n",
              "        vertical-align: middle;\n",
              "    }\n",
              "\n",
              "    .dataframe tbody tr th {\n",
              "        vertical-align: top;\n",
              "    }\n",
              "\n",
              "    .dataframe thead th {\n",
              "        text-align: right;\n",
              "    }\n",
              "</style>\n",
              "<table border=\"1\" class=\"dataframe\">\n",
              "  <thead>\n",
              "    <tr style=\"text-align: right;\">\n",
              "      <th></th>\n",
              "      <th>Recency</th>\n",
              "      <th>Frequency</th>\n",
              "      <th>Monetary</th>\n",
              "    </tr>\n",
              "  </thead>\n",
              "  <tbody>\n",
              "    <tr>\n",
              "      <th>359</th>\n",
              "      <td>677</td>\n",
              "      <td>2</td>\n",
              "      <td>3.96</td>\n",
              "    </tr>\n",
              "    <tr>\n",
              "      <th>380</th>\n",
              "      <td>677</td>\n",
              "      <td>2</td>\n",
              "      <td>3.96</td>\n",
              "    </tr>\n",
              "    <tr>\n",
              "      <th>487</th>\n",
              "      <td>671</td>\n",
              "      <td>148</td>\n",
              "      <td>1113.73</td>\n",
              "    </tr>\n",
              "    <tr>\n",
              "      <th>907</th>\n",
              "      <td>655</td>\n",
              "      <td>182</td>\n",
              "      <td>861.46</td>\n",
              "    </tr>\n",
              "    <tr>\n",
              "      <th>987</th>\n",
              "      <td>651</td>\n",
              "      <td>201</td>\n",
              "      <td>2209.00</td>\n",
              "    </tr>\n",
              "  </tbody>\n",
              "</table>\n",
              "</div>"
            ],
            "text/plain": [
              "     Recency  Frequency  Monetary\n",
              "359      677          2      3.96\n",
              "380      677          2      3.96\n",
              "487      671        148   1113.73\n",
              "907      655        182    861.46\n",
              "987      651        201   2209.00"
            ]
          },
          "metadata": {},
          "execution_count": 20
        }
      ]
    },
    {
      "cell_type": "markdown",
      "metadata": {
        "id": "yFwP4PHmQ1PQ"
      },
      "source": [
        "XG Boost Modeling - Multi Class classifier"
      ]
    },
    {
      "cell_type": "code",
      "metadata": {
        "id": "xQtBidTkQ3kX"
      },
      "source": [
        "X_train, X_test, y_train, y_test = train_test_split(events_data_featurized, \n",
        "                                                    Customer_Persona_np, \n",
        "                                                    test_size = 0.3, \n",
        "                                                    random_state = 0)"
      ],
      "execution_count": 21,
      "outputs": []
    },
    {
      "cell_type": "code",
      "metadata": {
        "colab": {
          "base_uri": "https://localhost:8080/"
        },
        "id": "dLCMq14ZTBw3",
        "outputId": "421a2e77-15e7-4ee3-aada-2fbc36967e70"
      },
      "source": [
        "\n",
        "# Technique using Multioutput classifier on top of XGBoost\n",
        "classifier = MultiOutputClassifier(XGBClassifier(reg_lambda = 1.2, reg_alpha = 0.2, booster = 'gbtree'))\n",
        "#classifier = XGBClassifier(objective='multi:softprob',num_class=19,eval_metric='auc')\n",
        "clf = Pipeline([('classify', classifier)])\n",
        "\n",
        "print (clf)"
      ],
      "execution_count": 22,
      "outputs": [
        {
          "output_type": "stream",
          "name": "stdout",
          "text": [
            "Pipeline(memory=None,\n",
            "         steps=[('classify',\n",
            "                 MultiOutputClassifier(estimator=XGBClassifier(base_score=0.5,\n",
            "                                                               booster='gbtree',\n",
            "                                                               colsample_bylevel=1,\n",
            "                                                               colsample_bynode=1,\n",
            "                                                               colsample_bytree=1,\n",
            "                                                               gamma=0,\n",
            "                                                               learning_rate=0.1,\n",
            "                                                               max_delta_step=0,\n",
            "                                                               max_depth=3,\n",
            "                                                               min_child_weight=1,\n",
            "                                                               missing=None,\n",
            "                                                               n_estimators=100,\n",
            "                                                               n_jobs=1,\n",
            "                                                               nthread=None,\n",
            "                                                               objective='binary:logistic',\n",
            "                                                               random_state=0,\n",
            "                                                               reg_alpha=0.2,\n",
            "                                                               reg_lambda=1.2,\n",
            "                                                               scale_pos_weight=1,\n",
            "                                                               seed=None,\n",
            "                                                               silent=None,\n",
            "                                                               subsample=1,\n",
            "                                                               verbosity=1),\n",
            "                                       n_jobs=None))],\n",
            "         verbose=False)\n"
          ]
        }
      ]
    },
    {
      "cell_type": "code",
      "metadata": {
        "colab": {
          "base_uri": "https://localhost:8080/",
          "height": 238
        },
        "id": "q63Y0m2bmNcY",
        "outputId": "7e81a66d-848c-4d80-fcad-bef904ebb0a9"
      },
      "source": [
        "print(X_train.shape)\n",
        "print(y_train.shape)\n",
        "\n",
        "events_data_featurized.head()\n",
        "\n"
      ],
      "execution_count": 23,
      "outputs": [
        {
          "output_type": "stream",
          "name": "stdout",
          "text": [
            "(40437, 3)\n",
            "(40437, 1)\n"
          ]
        },
        {
          "output_type": "execute_result",
          "data": {
            "text/html": [
              "<div>\n",
              "<style scoped>\n",
              "    .dataframe tbody tr th:only-of-type {\n",
              "        vertical-align: middle;\n",
              "    }\n",
              "\n",
              "    .dataframe tbody tr th {\n",
              "        vertical-align: top;\n",
              "    }\n",
              "\n",
              "    .dataframe thead th {\n",
              "        text-align: right;\n",
              "    }\n",
              "</style>\n",
              "<table border=\"1\" class=\"dataframe\">\n",
              "  <thead>\n",
              "    <tr style=\"text-align: right;\">\n",
              "      <th></th>\n",
              "      <th>Recency</th>\n",
              "      <th>Frequency</th>\n",
              "      <th>Monetary</th>\n",
              "    </tr>\n",
              "  </thead>\n",
              "  <tbody>\n",
              "    <tr>\n",
              "      <th>359</th>\n",
              "      <td>677</td>\n",
              "      <td>2</td>\n",
              "      <td>3.96</td>\n",
              "    </tr>\n",
              "    <tr>\n",
              "      <th>380</th>\n",
              "      <td>677</td>\n",
              "      <td>2</td>\n",
              "      <td>3.96</td>\n",
              "    </tr>\n",
              "    <tr>\n",
              "      <th>487</th>\n",
              "      <td>671</td>\n",
              "      <td>148</td>\n",
              "      <td>1113.73</td>\n",
              "    </tr>\n",
              "    <tr>\n",
              "      <th>907</th>\n",
              "      <td>655</td>\n",
              "      <td>182</td>\n",
              "      <td>861.46</td>\n",
              "    </tr>\n",
              "    <tr>\n",
              "      <th>987</th>\n",
              "      <td>651</td>\n",
              "      <td>201</td>\n",
              "      <td>2209.00</td>\n",
              "    </tr>\n",
              "  </tbody>\n",
              "</table>\n",
              "</div>"
            ],
            "text/plain": [
              "     Recency  Frequency  Monetary\n",
              "359      677          2      3.96\n",
              "380      677          2      3.96\n",
              "487      671        148   1113.73\n",
              "907      655        182    861.46\n",
              "987      651        201   2209.00"
            ]
          },
          "metadata": {},
          "execution_count": 23
        }
      ]
    },
    {
      "cell_type": "code",
      "metadata": {
        "id": "AwH1ylxDbkoj"
      },
      "source": [
        "clf.fit(X_train, y_train)\n",
        "y_pred = clf.predict(X_test)"
      ],
      "execution_count": 24,
      "outputs": []
    },
    {
      "cell_type": "code",
      "metadata": {
        "colab": {
          "base_uri": "https://localhost:8080/",
          "height": 317
        },
        "id": "-fIWcDmUb1kv",
        "outputId": "ad4c0004-0518-4c9a-b7a2-3c95e5f79aeb"
      },
      "source": [
        "print(\"Accuracy:\",metrics.accuracy_score(y_test, y_pred))\n",
        "\n",
        "print(y_test.shape)\n",
        "print(y_pred.shape)\n",
        "print(y_test[:,0])\n",
        "print(y_pred[:,0])\n",
        "\n",
        "#auc_y1 = roc_auc_score(y_test[:,0],y_pred[:,0], multi_class='ovr',max_fpr=1)\n",
        "#auc_y2 = roc_auc_score(y_test[:,1],y_pred[:,1])\n",
        "#auc_y3 = roc_auc_score(y_test[:,2],y_pred[:,2])\n",
        "#auc_y4 = roc_auc_score(y_test[:,3],y_pred[:,3])\n",
        "#auc_y5 = roc_auc_score(y_test[:,4],y_pred[:,4])\n",
        "#print(\"ROC AUC y1: %.4f, y2: %.4f, y3: %.4f, y4: %.4f, y5: %.4f\" % (auc_y1, auc_y2, auc_y3, auc_y4, auc_y5))\n",
        "\n",
        "\n",
        "cm_y1 = confusion_matrix(y_test[:,0],y_pred[:,0])\n",
        "cm_y2 = confusion_matrix(y_test[:,1],y_pred[:,1])\n",
        "cm_y3 = confusion_matrix(y_test[:,2],y_pred[:,2])\n",
        "cm_y4 = confusion_matrix(y_test[:,3],y_pred[:,3])\n",
        "cm_y5 = confusion_matrix(y_test[:,4],y_pred[:,4])\n",
        "print(cm_y1)\n",
        "\n",
        "\n",
        "cr_y1 = classification_report(y_test[:,0],y_pred[:,0])\n",
        "cr_y2 = classification_report(y_test[:,1],y_pred[:,1])\n",
        "cr_y3 = classification_report(y_test[:,2],y_pred[:,2])\n",
        "cr_y4 = classification_report(y_test[:,3],y_pred[:,3])\n",
        "cr_y5 = classification_report(y_test[:,4],y_pred[:,4])\n",
        "print (cr_y1)\n",
        "\n"
      ],
      "execution_count": 32,
      "outputs": [
        {
          "output_type": "stream",
          "name": "stdout",
          "text": [
            "Accuracy: 0.99994229992499\n",
            "(17331, 1)\n",
            "(17331, 1)\n",
            "[1 1 6 ... 6 1 2]\n",
            "[1 1 6 ... 6 1 2]\n"
          ]
        },
        {
          "output_type": "error",
          "ename": "IndexError",
          "evalue": "ignored",
          "traceback": [
            "\u001b[0;31m---------------------------------------------------------------------------\u001b[0m",
            "\u001b[0;31mIndexError\u001b[0m                                Traceback (most recent call last)",
            "\u001b[0;32m<ipython-input-32-cbcd0b757689>\u001b[0m in \u001b[0;36m<module>\u001b[0;34m()\u001b[0m\n\u001b[1;32m     15\u001b[0m \u001b[0;34m\u001b[0m\u001b[0m\n\u001b[1;32m     16\u001b[0m \u001b[0mcm_y1\u001b[0m \u001b[0;34m=\u001b[0m \u001b[0mconfusion_matrix\u001b[0m\u001b[0;34m(\u001b[0m\u001b[0my_test\u001b[0m\u001b[0;34m[\u001b[0m\u001b[0;34m:\u001b[0m\u001b[0;34m,\u001b[0m\u001b[0;36m0\u001b[0m\u001b[0;34m]\u001b[0m\u001b[0;34m,\u001b[0m\u001b[0my_pred\u001b[0m\u001b[0;34m[\u001b[0m\u001b[0;34m:\u001b[0m\u001b[0;34m,\u001b[0m\u001b[0;36m0\u001b[0m\u001b[0;34m]\u001b[0m\u001b[0;34m)\u001b[0m\u001b[0;34m\u001b[0m\u001b[0;34m\u001b[0m\u001b[0m\n\u001b[0;32m---> 17\u001b[0;31m \u001b[0mcm_y2\u001b[0m \u001b[0;34m=\u001b[0m \u001b[0mconfusion_matrix\u001b[0m\u001b[0;34m(\u001b[0m\u001b[0my_test\u001b[0m\u001b[0;34m[\u001b[0m\u001b[0;34m:\u001b[0m\u001b[0;34m,\u001b[0m\u001b[0;36m1\u001b[0m\u001b[0;34m]\u001b[0m\u001b[0;34m,\u001b[0m\u001b[0my_pred\u001b[0m\u001b[0;34m[\u001b[0m\u001b[0;34m:\u001b[0m\u001b[0;34m,\u001b[0m\u001b[0;36m1\u001b[0m\u001b[0;34m]\u001b[0m\u001b[0;34m)\u001b[0m\u001b[0;34m\u001b[0m\u001b[0;34m\u001b[0m\u001b[0m\n\u001b[0m\u001b[1;32m     18\u001b[0m \u001b[0mcm_y3\u001b[0m \u001b[0;34m=\u001b[0m \u001b[0mconfusion_matrix\u001b[0m\u001b[0;34m(\u001b[0m\u001b[0my_test\u001b[0m\u001b[0;34m[\u001b[0m\u001b[0;34m:\u001b[0m\u001b[0;34m,\u001b[0m\u001b[0;36m2\u001b[0m\u001b[0;34m]\u001b[0m\u001b[0;34m,\u001b[0m\u001b[0my_pred\u001b[0m\u001b[0;34m[\u001b[0m\u001b[0;34m:\u001b[0m\u001b[0;34m,\u001b[0m\u001b[0;36m2\u001b[0m\u001b[0;34m]\u001b[0m\u001b[0;34m)\u001b[0m\u001b[0;34m\u001b[0m\u001b[0;34m\u001b[0m\u001b[0m\n\u001b[1;32m     19\u001b[0m \u001b[0mcm_y4\u001b[0m \u001b[0;34m=\u001b[0m \u001b[0mconfusion_matrix\u001b[0m\u001b[0;34m(\u001b[0m\u001b[0my_test\u001b[0m\u001b[0;34m[\u001b[0m\u001b[0;34m:\u001b[0m\u001b[0;34m,\u001b[0m\u001b[0;36m3\u001b[0m\u001b[0;34m]\u001b[0m\u001b[0;34m,\u001b[0m\u001b[0my_pred\u001b[0m\u001b[0;34m[\u001b[0m\u001b[0;34m:\u001b[0m\u001b[0;34m,\u001b[0m\u001b[0;36m3\u001b[0m\u001b[0;34m]\u001b[0m\u001b[0;34m)\u001b[0m\u001b[0;34m\u001b[0m\u001b[0;34m\u001b[0m\u001b[0m\n",
            "\u001b[0;31mIndexError\u001b[0m: index 1 is out of bounds for axis 1 with size 1"
          ]
        }
      ]
    },
    {
      "cell_type": "code",
      "metadata": {
        "id": "WJ_1bznxb2B-"
      },
      "source": [
        "#plot_importance(clf, max_num_features=8, importance_type ='gain')\n",
        "#plt.rcParams['figure.figsize'] = (40,10)\n",
        "#plt.show()"
      ],
      "execution_count": null,
      "outputs": []
    },
    {
      "cell_type": "markdown",
      "metadata": {
        "id": "CE1vBKTjFO0V"
      },
      "source": [
        "Customer Conversion probability"
      ]
    },
    {
      "cell_type": "code",
      "metadata": {
        "colab": {
          "base_uri": "https://localhost:8080/"
        },
        "id": "z1erUDBBFOfK",
        "outputId": "05a8b622-6209-4825-c60e-3156bb0921ad"
      },
      "source": [
        "events_data_featurized.columns"
      ],
      "execution_count": 80,
      "outputs": [
        {
          "output_type": "execute_result",
          "data": {
            "text/plain": [
              "Index(['Recency', 'Frequency', 'Monetary'], dtype='object')"
            ]
          },
          "metadata": {},
          "execution_count": 80
        }
      ]
    },
    {
      "cell_type": "code",
      "metadata": {
        "id": "3U3aHs1QFbkG"
      },
      "source": [
        "events_data_conversion_featurized = events_data_featurized\n",
        "events_data_conversion_featurized[\"is_purchased\"] = np.where(events_data_featurized[\"event_type\"]==\"purchase\",1,0)\n",
        "#events_data_conversion_featurized[\"is_purchased\"] = events_data_conversion_featurized.groupby([\"user_session\",\"product_id\"])[\"is_purchased\"].transform(\"max\")"
      ],
      "execution_count": null,
      "outputs": []
    },
    {
      "cell_type": "code",
      "metadata": {
        "id": "iiHDz1cSHBNo"
      },
      "source": [
        "is_purchase_set = events_data_conversion_featurized[\"is_purchased\"] \n",
        "is_purchase_set.shape[0]\n",
        "#not_purchase_set = events_data_conversion_featurized[events_data_conversion_featurized['is_purchased']== 0]\n",
        "#not_purchase_set.shape[0]\n",
        "events_data_conversion_featurized.loc[:,'event_type'] = LabelEncoder().fit_transform(events_data_conversion_featurized.loc[:,'event_type'].copy())\n",
        "\n",
        "events_data_conversion_featurized.loc[:,'brand'] = LabelEncoder().fit_transform(events_data_conversion_featurized.loc[:,'brand'].copy())\n",
        "events_data_conversion_featurized.loc[:,'event_weekday'] = LabelEncoder().fit_transform(events_data_conversion_featurized.loc[:,'event_weekday'].copy())\n",
        "\n",
        "events_data_conversion_featurized.loc[:,'category_code_level1'] = LabelEncoder().fit_transform(events_data_conversion_featurized.loc[:,'category_code_level1'].copy())\n",
        "\n",
        "events_data_conversion_featurized.loc[:,'category_code_level2'] = LabelEncoder().fit_transform(events_data_conversion_featurized.loc[:,'category_code_level2'].copy())\n",
        "#events_data_conversion_featurized.drop(labels=['is_purchased','event_time','user_session','Customer_Persona','event_date','category_code'],axis=1, inplace=True)#\n",
        "#events_data_conversion_featurized.drop(labels=['event_date','category_code'],axis=1, inplace=True)#"
      ],
      "execution_count": null,
      "outputs": []
    },
    {
      "cell_type": "code",
      "metadata": {
        "id": "qU8Bp1PQ_YfW"
      },
      "source": [
        "events_data_conversion_featurized.columns"
      ],
      "execution_count": null,
      "outputs": []
    },
    {
      "cell_type": "code",
      "metadata": {
        "id": "Z_2mdl_lICDQ"
      },
      "source": [
        "X_train, X_test, y_train, y_test = train_test_split(events_data_conversion_featurized, \n",
        "                                                    is_purchase_set, \n",
        "                                                    test_size = 0.3, \n",
        "                                                    random_state = 0)"
      ],
      "execution_count": null,
      "outputs": []
    },
    {
      "cell_type": "code",
      "metadata": {
        "id": "17tQkHA1IaGk"
      },
      "source": [
        "from xgboost import XGBClassifier\n",
        "model_purch = XGBClassifier(learning_rate=0.1)\n",
        "model_purch.fit(X_train, y_train)\n",
        "y_pred = model_purch.predict(X_test)"
      ],
      "execution_count": null,
      "outputs": []
    },
    {
      "cell_type": "code",
      "metadata": {
        "id": "EnkKZkKMI7r-"
      },
      "source": [
        "print(\"Accuracy:\",metrics.accuracy_score(y_test, y_pred))\n",
        "print(\"Precision:\",metrics.precision_score(y_test, y_pred))\n",
        "print(\"Recall:\",metrics.recall_score(y_test, y_pred))\n",
        "print(\"fbeta:\",metrics.fbeta_score(y_test, y_pred, average='weighted', beta=0.5))"
      ],
      "execution_count": null,
      "outputs": []
    },
    {
      "cell_type": "markdown",
      "metadata": {
        "id": "Azgau5IiA_Aw"
      },
      "source": [
        "Save the model for API purposes"
      ]
    },
    {
      "cell_type": "code",
      "metadata": {
        "id": "0tA9_09oLva5"
      },
      "source": [
        "from joblib import dump, load\n"
      ],
      "execution_count": 34,
      "outputs": []
    },
    {
      "cell_type": "code",
      "metadata": {
        "colab": {
          "base_uri": "https://localhost:8080/",
          "height": 181
        },
        "id": "Hxw9KBY4A4o7",
        "outputId": "2380855c-7a0d-43fb-8074-5b99869f7f2c"
      },
      "source": [
        "dump(clf, '/content/drive/My Drive/FourthBrain/Capstone Project/model_output/Persona_XGBoost_pipeline.joblib') \n",
        "#dump(model_purch, '/content/drive/My Drive/FourthBrain/Capstone Project/model_output/Purchase_XGBoost_pipeline.joblib') \n",
        "('/content/drive/My Drive/FourthBrain/Capstone Project/model_output/Persona_XGBoost_pipeline.joblib') \n"
      ],
      "execution_count": 35,
      "outputs": [
        {
          "output_type": "error",
          "ename": "NameError",
          "evalue": "ignored",
          "traceback": [
            "\u001b[0;31m---------------------------------------------------------------------------\u001b[0m",
            "\u001b[0;31mNameError\u001b[0m                                 Traceback (most recent call last)",
            "\u001b[0;32m<ipython-input-35-03dcca8d1e43>\u001b[0m in \u001b[0;36m<module>\u001b[0;34m()\u001b[0m\n\u001b[1;32m      1\u001b[0m \u001b[0mdump\u001b[0m\u001b[0;34m(\u001b[0m\u001b[0mclf\u001b[0m\u001b[0;34m,\u001b[0m \u001b[0;34m'/content/drive/My Drive/FourthBrain/Capstone Project/model_output/Persona_XGBoost_pipeline.joblib'\u001b[0m\u001b[0;34m)\u001b[0m\u001b[0;34m\u001b[0m\u001b[0;34m\u001b[0m\u001b[0m\n\u001b[0;32m----> 2\u001b[0;31m \u001b[0mdump\u001b[0m\u001b[0;34m(\u001b[0m\u001b[0mmodel_purch\u001b[0m\u001b[0;34m,\u001b[0m \u001b[0;34m'/content/drive/My Drive/FourthBrain/Capstone Project/model_output/Purchase_XGBoost_pipeline.joblib'\u001b[0m\u001b[0;34m)\u001b[0m\u001b[0;34m\u001b[0m\u001b[0;34m\u001b[0m\u001b[0m\n\u001b[0m",
            "\u001b[0;31mNameError\u001b[0m: name 'model_purch' is not defined"
          ]
        }
      ]
    },
    {
      "cell_type": "code",
      "metadata": {
        "colab": {
          "base_uri": "https://localhost:8080/"
        },
        "id": "CPw8cZgbyjWM",
        "outputId": "5d05a82f-12b5-4455-bf89-534e7fbefe2a"
      },
      "source": [
        "cp_predict = pd.DataFrame ({\"f0\": 12, \"f1\": 12, \"f2\": 50}, index=[0])\n",
        "customer_persona_code_predictions = clf.predict(cp_predict)\n",
        "predict_value = customer_persona_code_predictions.flatten()[0]\n",
        "print(customer_persona_code_predictions.flatten(),predict_value)"
      ],
      "execution_count": 47,
      "outputs": [
        {
          "output_type": "stream",
          "name": "stdout",
          "text": [
            "[6] 6\n"
          ]
        }
      ]
    },
    {
      "cell_type": "code",
      "metadata": {
        "colab": {
          "base_uri": "https://localhost:8080/",
          "height": 35
        },
        "id": "R6e-dIjzcbKY",
        "outputId": "19e8230b-b430-4111-b5f4-1c83f2226d5f"
      },
      "source": [
        "import sklearn as sk\n",
        "sk.__version__"
      ],
      "execution_count": 49,
      "outputs": [
        {
          "output_type": "execute_result",
          "data": {
            "application/vnd.google.colaboratory.intrinsic+json": {
              "type": "string"
            },
            "text/plain": [
              "'0.22.2.post1'"
            ]
          },
          "metadata": {},
          "execution_count": 49
        }
      ]
    },
    {
      "cell_type": "code",
      "metadata": {
        "colab": {
          "base_uri": "https://localhost:8080/",
          "height": 1000
        },
        "id": "CiE4_SBnLS2G",
        "outputId": "f732e196-f50d-4587-878c-a8f6b27608f8"
      },
      "source": [
        "rfm_segmentation = pd.read_csv('s3://2021-july-mle-groupby-team/rmf-segmentation/RMFSegmentMapping.csv')\n",
        "rfm_segmentation.head(50)"
      ],
      "execution_count": 51,
      "outputs": [
        {
          "output_type": "execute_result",
          "data": {
            "text/html": [
              "<div>\n",
              "<style scoped>\n",
              "    .dataframe tbody tr th:only-of-type {\n",
              "        vertical-align: middle;\n",
              "    }\n",
              "\n",
              "    .dataframe tbody tr th {\n",
              "        vertical-align: top;\n",
              "    }\n",
              "\n",
              "    .dataframe thead th {\n",
              "        text-align: right;\n",
              "    }\n",
              "</style>\n",
              "<table border=\"1\" class=\"dataframe\">\n",
              "  <thead>\n",
              "    <tr style=\"text-align: right;\">\n",
              "      <th></th>\n",
              "      <th>RMFSegment</th>\n",
              "      <th>Customer_Persona</th>\n",
              "      <th>Persona_Description</th>\n",
              "    </tr>\n",
              "  </thead>\n",
              "  <tbody>\n",
              "    <tr>\n",
              "      <th>0</th>\n",
              "      <td>111</td>\n",
              "      <td>Top Customers</td>\n",
              "      <td>current, frequent, large revenues</td>\n",
              "    </tr>\n",
              "    <tr>\n",
              "      <th>1</th>\n",
              "      <td>112</td>\n",
              "      <td>Top Customers</td>\n",
              "      <td>current, frequent, large revenues</td>\n",
              "    </tr>\n",
              "    <tr>\n",
              "      <th>2</th>\n",
              "      <td>113</td>\n",
              "      <td>Active Customers</td>\n",
              "      <td>continuous revenue</td>\n",
              "    </tr>\n",
              "    <tr>\n",
              "      <th>3</th>\n",
              "      <td>114</td>\n",
              "      <td>Active Customers</td>\n",
              "      <td>continuous revenue</td>\n",
              "    </tr>\n",
              "    <tr>\n",
              "      <th>4</th>\n",
              "      <td>121</td>\n",
              "      <td>Top Customers</td>\n",
              "      <td>current, frequent, large revenues</td>\n",
              "    </tr>\n",
              "    <tr>\n",
              "      <th>5</th>\n",
              "      <td>122</td>\n",
              "      <td>Top Customers</td>\n",
              "      <td>current, frequent, large revenues</td>\n",
              "    </tr>\n",
              "    <tr>\n",
              "      <th>6</th>\n",
              "      <td>123</td>\n",
              "      <td>Active Customers</td>\n",
              "      <td>continuous revenue</td>\n",
              "    </tr>\n",
              "    <tr>\n",
              "      <th>7</th>\n",
              "      <td>124</td>\n",
              "      <td>Active Customers</td>\n",
              "      <td>continuous revenue</td>\n",
              "    </tr>\n",
              "    <tr>\n",
              "      <th>8</th>\n",
              "      <td>131</td>\n",
              "      <td>Active Customers</td>\n",
              "      <td>continuous revenue</td>\n",
              "    </tr>\n",
              "    <tr>\n",
              "      <th>9</th>\n",
              "      <td>132</td>\n",
              "      <td>Active Customers</td>\n",
              "      <td>continuous revenue</td>\n",
              "    </tr>\n",
              "    <tr>\n",
              "      <th>10</th>\n",
              "      <td>133</td>\n",
              "      <td>Active Customers</td>\n",
              "      <td>continuous revenue</td>\n",
              "    </tr>\n",
              "    <tr>\n",
              "      <th>11</th>\n",
              "      <td>134</td>\n",
              "      <td>Unsteady Customers</td>\n",
              "      <td>potential for cross and upselling depending on...</td>\n",
              "    </tr>\n",
              "    <tr>\n",
              "      <th>12</th>\n",
              "      <td>141</td>\n",
              "      <td>Active Customers</td>\n",
              "      <td>continuous revenue</td>\n",
              "    </tr>\n",
              "    <tr>\n",
              "      <th>13</th>\n",
              "      <td>142</td>\n",
              "      <td>Active Customers</td>\n",
              "      <td>continuous revenue</td>\n",
              "    </tr>\n",
              "    <tr>\n",
              "      <th>14</th>\n",
              "      <td>143</td>\n",
              "      <td>Active Customers</td>\n",
              "      <td>continuous revenue</td>\n",
              "    </tr>\n",
              "    <tr>\n",
              "      <th>15</th>\n",
              "      <td>144</td>\n",
              "      <td>Unsteady Customers</td>\n",
              "      <td>potential for cross and upselling depending on...</td>\n",
              "    </tr>\n",
              "    <tr>\n",
              "      <th>16</th>\n",
              "      <td>211</td>\n",
              "      <td>Emerging Customers</td>\n",
              "      <td>potential for cross and upselling</td>\n",
              "    </tr>\n",
              "    <tr>\n",
              "      <th>17</th>\n",
              "      <td>212</td>\n",
              "      <td>Emerging Customers</td>\n",
              "      <td>potential for cross and upselling</td>\n",
              "    </tr>\n",
              "    <tr>\n",
              "      <th>18</th>\n",
              "      <td>213</td>\n",
              "      <td>Emerging Customers</td>\n",
              "      <td>potential for cross and upselling</td>\n",
              "    </tr>\n",
              "    <tr>\n",
              "      <th>19</th>\n",
              "      <td>214</td>\n",
              "      <td>Unsteady Customers</td>\n",
              "      <td>potential for cross and upselling depending on...</td>\n",
              "    </tr>\n",
              "    <tr>\n",
              "      <th>20</th>\n",
              "      <td>221</td>\n",
              "      <td>Emerging Customers</td>\n",
              "      <td>potential for cross and upselling</td>\n",
              "    </tr>\n",
              "    <tr>\n",
              "      <th>21</th>\n",
              "      <td>222</td>\n",
              "      <td>Emerging Customers</td>\n",
              "      <td>potential for cross and upselling</td>\n",
              "    </tr>\n",
              "    <tr>\n",
              "      <th>22</th>\n",
              "      <td>223</td>\n",
              "      <td>Emerging Customers</td>\n",
              "      <td>potential for cross and upselling</td>\n",
              "    </tr>\n",
              "    <tr>\n",
              "      <th>23</th>\n",
              "      <td>224</td>\n",
              "      <td>Unsteady Customers</td>\n",
              "      <td>potential for cross and upselling depending on...</td>\n",
              "    </tr>\n",
              "    <tr>\n",
              "      <th>24</th>\n",
              "      <td>231</td>\n",
              "      <td>Unsteady Customers</td>\n",
              "      <td>potential for cross and upselling depending on...</td>\n",
              "    </tr>\n",
              "    <tr>\n",
              "      <th>25</th>\n",
              "      <td>232</td>\n",
              "      <td>Unsteady Customers</td>\n",
              "      <td>potential for cross and upselling depending on...</td>\n",
              "    </tr>\n",
              "    <tr>\n",
              "      <th>26</th>\n",
              "      <td>233</td>\n",
              "      <td>Unsteady Customers</td>\n",
              "      <td>potential for cross and upselling depending on...</td>\n",
              "    </tr>\n",
              "    <tr>\n",
              "      <th>27</th>\n",
              "      <td>234</td>\n",
              "      <td>Unsteady Customers</td>\n",
              "      <td>potential for cross and upselling depending on...</td>\n",
              "    </tr>\n",
              "    <tr>\n",
              "      <th>28</th>\n",
              "      <td>241</td>\n",
              "      <td>Unsteady Customers</td>\n",
              "      <td>potential for cross and upselling depending on...</td>\n",
              "    </tr>\n",
              "    <tr>\n",
              "      <th>29</th>\n",
              "      <td>242</td>\n",
              "      <td>Unsteady Customers</td>\n",
              "      <td>potential for cross and upselling depending on...</td>\n",
              "    </tr>\n",
              "    <tr>\n",
              "      <th>30</th>\n",
              "      <td>243</td>\n",
              "      <td>Unsteady Customers</td>\n",
              "      <td>potential for cross and upselling depending on...</td>\n",
              "    </tr>\n",
              "    <tr>\n",
              "      <th>31</th>\n",
              "      <td>244</td>\n",
              "      <td>Unsteady Customers</td>\n",
              "      <td>potential for cross and upselling depending on...</td>\n",
              "    </tr>\n",
              "    <tr>\n",
              "      <th>32</th>\n",
              "      <td>311</td>\n",
              "      <td>Customers at risk</td>\n",
              "      <td>non-current but partly frequent and high revenues</td>\n",
              "    </tr>\n",
              "    <tr>\n",
              "      <th>33</th>\n",
              "      <td>312</td>\n",
              "      <td>Customers at risk</td>\n",
              "      <td>non-current but partly frequent and high revenues</td>\n",
              "    </tr>\n",
              "    <tr>\n",
              "      <th>34</th>\n",
              "      <td>313</td>\n",
              "      <td>Customers at risk</td>\n",
              "      <td>non-current but partly frequent and high revenues</td>\n",
              "    </tr>\n",
              "    <tr>\n",
              "      <th>35</th>\n",
              "      <td>314</td>\n",
              "      <td>Customers at risk</td>\n",
              "      <td>non-current but partly frequent and high revenues</td>\n",
              "    </tr>\n",
              "    <tr>\n",
              "      <th>36</th>\n",
              "      <td>321</td>\n",
              "      <td>Customers at risk</td>\n",
              "      <td>non-current but partly frequent and high revenues</td>\n",
              "    </tr>\n",
              "    <tr>\n",
              "      <th>37</th>\n",
              "      <td>322</td>\n",
              "      <td>Customers at risk</td>\n",
              "      <td>non-current but partly frequent and high revenues</td>\n",
              "    </tr>\n",
              "    <tr>\n",
              "      <th>38</th>\n",
              "      <td>323</td>\n",
              "      <td>Customers at risk</td>\n",
              "      <td>non-current but partly frequent and high revenues</td>\n",
              "    </tr>\n",
              "    <tr>\n",
              "      <th>39</th>\n",
              "      <td>324</td>\n",
              "      <td>Customers at risk</td>\n",
              "      <td>non-current but partly frequent and high revenues</td>\n",
              "    </tr>\n",
              "    <tr>\n",
              "      <th>40</th>\n",
              "      <td>331</td>\n",
              "      <td>Customers at risk</td>\n",
              "      <td>non-current but partly frequent and high revenues</td>\n",
              "    </tr>\n",
              "    <tr>\n",
              "      <th>41</th>\n",
              "      <td>332</td>\n",
              "      <td>Customers at risk</td>\n",
              "      <td>non-current but partly frequent and high revenues</td>\n",
              "    </tr>\n",
              "    <tr>\n",
              "      <th>42</th>\n",
              "      <td>333</td>\n",
              "      <td>Potential lost customers</td>\n",
              "      <td>NaN</td>\n",
              "    </tr>\n",
              "    <tr>\n",
              "      <th>43</th>\n",
              "      <td>334</td>\n",
              "      <td>Potential lost customers</td>\n",
              "      <td>NaN</td>\n",
              "    </tr>\n",
              "    <tr>\n",
              "      <th>44</th>\n",
              "      <td>341</td>\n",
              "      <td>Customers at risk</td>\n",
              "      <td>non-current but partly frequent and high revenues</td>\n",
              "    </tr>\n",
              "    <tr>\n",
              "      <th>45</th>\n",
              "      <td>342</td>\n",
              "      <td>Customers at risk</td>\n",
              "      <td>non-current but partly frequent and high revenues</td>\n",
              "    </tr>\n",
              "    <tr>\n",
              "      <th>46</th>\n",
              "      <td>343</td>\n",
              "      <td>Potential lost customers</td>\n",
              "      <td>NaN</td>\n",
              "    </tr>\n",
              "    <tr>\n",
              "      <th>47</th>\n",
              "      <td>344</td>\n",
              "      <td>Potential lost customers</td>\n",
              "      <td>NaN</td>\n",
              "    </tr>\n",
              "    <tr>\n",
              "      <th>48</th>\n",
              "      <td>411</td>\n",
              "      <td>Customers at risk</td>\n",
              "      <td>non-current but partly frequent and high revenues</td>\n",
              "    </tr>\n",
              "    <tr>\n",
              "      <th>49</th>\n",
              "      <td>412</td>\n",
              "      <td>Customers at risk</td>\n",
              "      <td>non-current but partly frequent and high revenues</td>\n",
              "    </tr>\n",
              "  </tbody>\n",
              "</table>\n",
              "</div>"
            ],
            "text/plain": [
              "    RMFSegment  ...                                Persona_Description\n",
              "0          111  ...                  current, frequent, large revenues\n",
              "1          112  ...                  current, frequent, large revenues\n",
              "2          113  ...                                 continuous revenue\n",
              "3          114  ...                                 continuous revenue\n",
              "4          121  ...                  current, frequent, large revenues\n",
              "5          122  ...                  current, frequent, large revenues\n",
              "6          123  ...                                 continuous revenue\n",
              "7          124  ...                                 continuous revenue\n",
              "8          131  ...                                 continuous revenue\n",
              "9          132  ...                                 continuous revenue\n",
              "10         133  ...                                 continuous revenue\n",
              "11         134  ...  potential for cross and upselling depending on...\n",
              "12         141  ...                                 continuous revenue\n",
              "13         142  ...                                 continuous revenue\n",
              "14         143  ...                                 continuous revenue\n",
              "15         144  ...  potential for cross and upselling depending on...\n",
              "16         211  ...                 potential for cross and upselling \n",
              "17         212  ...                 potential for cross and upselling \n",
              "18         213  ...                 potential for cross and upselling \n",
              "19         214  ...  potential for cross and upselling depending on...\n",
              "20         221  ...                 potential for cross and upselling \n",
              "21         222  ...                 potential for cross and upselling \n",
              "22         223  ...                 potential for cross and upselling \n",
              "23         224  ...  potential for cross and upselling depending on...\n",
              "24         231  ...  potential for cross and upselling depending on...\n",
              "25         232  ...  potential for cross and upselling depending on...\n",
              "26         233  ...  potential for cross and upselling depending on...\n",
              "27         234  ...  potential for cross and upselling depending on...\n",
              "28         241  ...  potential for cross and upselling depending on...\n",
              "29         242  ...  potential for cross and upselling depending on...\n",
              "30         243  ...  potential for cross and upselling depending on...\n",
              "31         244  ...  potential for cross and upselling depending on...\n",
              "32         311  ...  non-current but partly frequent and high revenues\n",
              "33         312  ...  non-current but partly frequent and high revenues\n",
              "34         313  ...  non-current but partly frequent and high revenues\n",
              "35         314  ...  non-current but partly frequent and high revenues\n",
              "36         321  ...  non-current but partly frequent and high revenues\n",
              "37         322  ...  non-current but partly frequent and high revenues\n",
              "38         323  ...  non-current but partly frequent and high revenues\n",
              "39         324  ...  non-current but partly frequent and high revenues\n",
              "40         331  ...  non-current but partly frequent and high revenues\n",
              "41         332  ...  non-current but partly frequent and high revenues\n",
              "42         333  ...                                                NaN\n",
              "43         334  ...                                                NaN\n",
              "44         341  ...  non-current but partly frequent and high revenues\n",
              "45         342  ...  non-current but partly frequent and high revenues\n",
              "46         343  ...                                                NaN\n",
              "47         344  ...                                                NaN\n",
              "48         411  ...  non-current but partly frequent and high revenues\n",
              "49         412  ...  non-current but partly frequent and high revenues\n",
              "\n",
              "[50 rows x 3 columns]"
            ]
          },
          "metadata": {},
          "execution_count": 51
        }
      ]
    }
  ]
}